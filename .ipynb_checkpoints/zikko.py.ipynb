{
 "cells": [
  {
   "cell_type": "code",
   "execution_count": 1,
   "metadata": {},
   "outputs": [
    {
     "ename": "ConnectionRefusedError",
     "evalue": "[WinError 10061] Hedef makine etkin olarak reddettiğinden bağlantı kurulamadı",
     "output_type": "error",
     "traceback": [
      "\u001b[1;31m---------------------------------------------------------------------------\u001b[0m",
      "\u001b[1;31mConnectionRefusedError\u001b[0m                    Traceback (most recent call last)",
      "Cell \u001b[1;32mIn[1], line 12\u001b[0m\n\u001b[0;32m      9\u001b[0m client_socket \u001b[38;5;241m=\u001b[39m socket\u001b[38;5;241m.\u001b[39msocket(socket\u001b[38;5;241m.\u001b[39mAF_INET, socket\u001b[38;5;241m.\u001b[39mSOCK_STREAM)\n\u001b[0;32m     11\u001b[0m \u001b[38;5;66;03m# Sunucuya bağlan\u001b[39;00m\n\u001b[1;32m---> 12\u001b[0m \u001b[43mclient_socket\u001b[49m\u001b[38;5;241;43m.\u001b[39;49m\u001b[43mconnect\u001b[49m\u001b[43m(\u001b[49m\u001b[43m(\u001b[49m\u001b[43mserver_ip\u001b[49m\u001b[43m,\u001b[49m\u001b[43m \u001b[49m\u001b[43mserver_port\u001b[49m\u001b[43m)\u001b[49m\u001b[43m)\u001b[49m\n\u001b[0;32m     14\u001b[0m \u001b[38;5;28;01mdef\u001b[39;00m \u001b[38;5;21mcreate_message\u001b[39m(addr, val):\n\u001b[0;32m     15\u001b[0m     \u001b[38;5;28;01mreturn\u001b[39;00m \u001b[38;5;124m\"\u001b[39m\u001b[38;5;124mWRITE*\u001b[39m\u001b[38;5;132;01m{}\u001b[39;00m\u001b[38;5;124m*\u001b[39m\u001b[38;5;132;01m{}\u001b[39;00m\u001b[38;5;124m\"\u001b[39m\u001b[38;5;241m.\u001b[39mformat(addr, val)\n",
      "\u001b[1;31mConnectionRefusedError\u001b[0m: [WinError 10061] Hedef makine etkin olarak reddettiğinden bağlantı kurulamadı"
     ]
    }
   ],
   "source": [
    "import socket\n",
    "import time\n",
    "\n",
    "# IP ADDRESS AND PORT NUMBER\n",
    "server_ip = '127.0.0.1'\n",
    "server_port = 5000\n",
    "\n",
    "# TCP/IP SOCKET\n",
    "client_socket = socket.socket(socket.AF_INET, socket.SOCK_STREAM)\n",
    "\n",
    "# Sunucuya bağlan\n",
    "client_socket.connect((server_ip, server_port))\n",
    "\n",
    "def create_message(addr, val):\n",
    "    return \"WRITE*{}*{}\".format(addr, val)\n",
    "\n",
    "def send_message(client_socket, addr, val):\n",
    "    message = create_message(addr, val)\n",
    "    client_socket.sendall(message.encode())\n",
    "    print(f\"Sending message: {message}\")\n",
    "    response = client_socket.recv(1024)\n",
    "    print(f\"Server response: {response.decode()}\")\n",
    "def status():\n",
    "    response_sts = client_socket.recv(1024)\n",
    "    print(f\"Server response: {response_sts.decode()}\")\n",
    "def send_multiple_messages(client_socket):\n",
    "    while True:\n",
    "        time.sleep(1)\n",
    "        send_message(client_socket, 23, 45)\n",
    "        time.sleep(1)\n",
    "        send_message(client_socket, 23, 39)\n",
    "        time.sleep(1)\n",
    "        send_message(client_socket, 23, 50)\n",
    "send_message(client_socket, 1, 1)\n",
    "while True:\n",
    "    status()\n",
    "\n",
    "\n",
    "\n",
    "\n",
    "\n",
    "\n"
   ]
  }
 ],
 "metadata": {
  "kernelspec": {
   "display_name": "Python 3 (ipykernel)",
   "language": "python",
   "name": "python3"
  },
  "language_info": {
   "codemirror_mode": {
    "name": "ipython",
    "version": 3
   },
   "file_extension": ".py",
   "mimetype": "text/x-python",
   "name": "python",
   "nbconvert_exporter": "python",
   "pygments_lexer": "ipython3",
   "version": "3.9.19"
  }
 },
 "nbformat": 4,
 "nbformat_minor": 2
}
